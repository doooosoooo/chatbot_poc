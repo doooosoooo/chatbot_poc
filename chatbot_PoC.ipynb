{
  "nbformat": 4,
  "nbformat_minor": 0,
  "metadata": {
    "colab": {
      "provenance": [],
      "mount_file_id": "1ZOTCzmOOh_kuvITFBITbjDZB8CN2Il0x",
      "authorship_tag": "ABX9TyPuXA/2QGo99sehtGhKgUet",
      "include_colab_link": true
    },
    "kernelspec": {
      "name": "python3",
      "display_name": "Python 3"
    },
    "language_info": {
      "name": "python"
    }
  },
  "cells": [
    {
      "cell_type": "markdown",
      "metadata": {
        "id": "view-in-github",
        "colab_type": "text"
      },
      "source": [
        "<a href=\"https://colab.research.google.com/github/doooosoooo/chatbot_poc/blob/main/chatbot_PoC.ipynb\" target=\"_parent\"><img src=\"https://colab.research.google.com/assets/colab-badge.svg\" alt=\"Open In Colab\"/></a>"
      ]
    },
    {
      "cell_type": "code",
      "source": [
        "!cd /content/drive/MyDrive/Colab_Notebooks\n",
        "!git clone https://github.com/Future-Lab-META/chatbot_PoC.git"
      ],
      "metadata": {
        "colab": {
          "base_uri": "https://localhost:8080/"
        },
        "id": "y7tmKQJiEI6t",
        "outputId": "bbc4e402-baeb-4803-8d01-adcf2de5279f"
      },
      "execution_count": null,
      "outputs": [
        {
          "output_type": "stream",
          "name": "stdout",
          "text": [
            "Cloning into 'chatbot_PoC'...\n",
            "fatal: could not read Username for 'https://github.com': No such device or address\n"
          ]
        }
      ]
    },
    {
      "cell_type": "code",
      "source": [],
      "metadata": {
        "id": "fE-_jI2_ETSF"
      },
      "execution_count": null,
      "outputs": []
    }
  ]
}